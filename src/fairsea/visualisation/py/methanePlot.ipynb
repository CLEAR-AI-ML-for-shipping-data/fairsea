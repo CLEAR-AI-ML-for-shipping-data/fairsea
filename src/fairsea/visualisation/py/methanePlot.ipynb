{
 "cells": [
  {
   "cell_type": "code",
   "execution_count": null,
   "metadata": {},
   "outputs": [],
   "source": [
    "import netCDF4\n",
    "import math\n",
    "import pandas as pd\n",
    "\n",
    "methanePath = '/home/joajohan/methaneAIS_data/ocean_ch4.nc'\n",
    "aisPath = '/home/joajohan/methaneAIS_data/Global_2022_allPollutants_AmandaN.nc'"
   ]
  },
  {
   "attachments": {},
   "cell_type": "markdown",
   "metadata": {},
   "source": [
    "# Read methane data"
   ]
  },
  {
   "cell_type": "code",
   "execution_count": null,
   "metadata": {},
   "outputs": [],
   "source": [
    "def readMethane(methanePath):\n",
    "    methaneFile = netCDF4.Dataset(methanePath,'r')\n",
    "    fdiff = [[x for x in v.data] for v in methaneFile.variables['Fch4_diffusive']]\n",
    "    febul = [[x for x in v.data] for v in methaneFile.variables['Fch4_ebullitive']]\n",
    "\n",
    "    longitudes = [v.data.flatten()[0] for v in methaneFile.variables['LON']]\n",
    "    latitudes = [v.data.flatten()[0] for v in methaneFile.variables['LAT']]\n",
    "\n",
    "    # Note that NaN values are filtered out\n",
    "    return pd.DataFrame(\n",
    "    [{\n",
    "        'Latitude': lat,\n",
    "        'Longitude': lng,\n",
    "        'Fch4_diffusive': fdiff[lat_i][lng_i],\n",
    "        'Fch4_ebullitive': febul[lat_i][lng_i]\n",
    "    } for lat_i, lat in enumerate(latitudes) for lng_i, lng in enumerate(longitudes) if not math.isnan(fdiff[lat_i][lng_i]) and not math.isnan(febul[lat_i][lng_i])\n",
    "    ])"
   ]
  },
  {
   "cell_type": "code",
   "execution_count": null,
   "metadata": {},
   "outputs": [],
   "source": [
    "dfMethane = readMethane(methanePath)"
   ]
  },
  {
   "attachments": {},
   "cell_type": "markdown",
   "metadata": {},
   "source": [
    "# Read AIS data"
   ]
  },
  {
   "cell_type": "code",
   "execution_count": null,
   "metadata": {},
   "outputs": [],
   "source": [
    "def readAIS(aisPath):\n",
    "    aisFile = netCDF4.Dataset(aisPath,'r')\n",
    "    travel = [v.data for v in aisFile.variables['TRAVEL']][0]\n",
    "\n",
    "    longitudes = [v.data.flatten()[0] for v in aisFile.variables['longitude']]\n",
    "    latitudes = [v.data.flatten()[0] for v in aisFile.variables['latitude']]\n",
    "\n",
    "    # Note that zeros are filtered out\n",
    "    return pd.DataFrame(\n",
    "    [{\n",
    "        'Latitude': lat,\n",
    "        'Longitude': lng,\n",
    "        'travel': travel[lat_i][lng_i],\n",
    "    } for lat_i, lat in enumerate(latitudes) for lng_i, lng in enumerate(longitudes) if not travel[lat_i][lng_i] == 0\n",
    "    ])"
   ]
  },
  {
   "cell_type": "code",
   "execution_count": null,
   "metadata": {},
   "outputs": [],
   "source": [
    "dfAis = readAIS(aisPath)"
   ]
  },
  {
   "attachments": {},
   "cell_type": "markdown",
   "metadata": {},
   "source": [
    "# Plot data"
   ]
  },
  {
   "cell_type": "code",
   "execution_count": null,
   "metadata": {},
   "outputs": [],
   "source": [
    "import numpy as np\n",
    "from mpl_toolkits.basemap import Basemap\n",
    "import matplotlib.pyplot as plt\n",
    "import matplotlib.colors as colors"
   ]
  },
  {
   "cell_type": "code",
   "execution_count": null,
   "metadata": {},
   "outputs": [],
   "source": [
    "def plotMap(df, value, cmap='RdYlBu_r', norm=colors.Normalize(), label=None, dpi=300):\n",
    "    plt.figure(dpi=dpi)\n",
    "    if label is None:\n",
    "        label=value\n",
    "    lat = df['Latitude'].values\n",
    "    lon = df['Longitude'].values\n",
    "\n",
    "    lon = np.array([v - 360 if v > 180 else v for v in lon])\n",
    "\n",
    "    m = Basemap(projection = 'mill',\n",
    "            llcrnrlat = -80,\n",
    "            urcrnrlat = 80,\n",
    "            llcrnrlon = -180,\n",
    "            urcrnrlon = 180,\n",
    "            resolution = 'c')\n",
    "\n",
    "    m.drawparallels(np.arange(-90, 90, 30), labels=[True, False, False, False])\n",
    "    m.drawmeridians(np.arange(-180, 180, 40), labels = [0,0,0,1])\n",
    "    m.drawcoastlines(color='gray', linewidth=0.5)\n",
    "\n",
    "    x, y = m(lon, lat)\n",
    "    m.hexbin(x, y, \n",
    "        bins=None,\n",
    "        norm = norm,\n",
    "        C=df[value].values,\n",
    "        gridsize=1000,\n",
    "        alpha=1,\n",
    "        edgecolors='none',\n",
    "        cmap=cmap,\n",
    "        reduce_C_function = np.sum\n",
    "    )\n",
    "\n",
    "    plt.colorbar(label=label, location=\"top\")\n"
   ]
  },
  {
   "attachments": {},
   "cell_type": "markdown",
   "metadata": {},
   "source": [
    "## Diffusive"
   ]
  },
  {
   "cell_type": "code",
   "execution_count": null,
   "metadata": {},
   "outputs": [],
   "source": [
    "plotMap(dfMethane, 'Fch4_diffusive', norm=colors.SymLogNorm(0.25, vmin=-0.5, vmax=100), label=r\"Diffusive $CH_4$ $({mmol }m^{-2}y^{-1}$)\")"
   ]
  },
  {
   "attachments": {},
   "cell_type": "markdown",
   "metadata": {},
   "source": [
    "## Ebulitive"
   ]
  },
  {
   "cell_type": "code",
   "execution_count": null,
   "metadata": {},
   "outputs": [],
   "source": [
    "plotMap(dfMethane, 'Fch4_ebullitive', norm=colors.LogNorm(vmax=100), label=r\"Ebulitive $CH_4$ (${mmol}$ $m^{-2}$ $y^{-1}$)\")"
   ]
  },
  {
   "cell_type": "code",
   "execution_count": null,
   "metadata": {},
   "outputs": [],
   "source": [
    "dfMethane['Fch4_ebullitive'].max()"
   ]
  },
  {
   "attachments": {},
   "cell_type": "markdown",
   "metadata": {},
   "source": [
    "## AIS travel data"
   ]
  },
  {
   "cell_type": "code",
   "execution_count": null,
   "metadata": {},
   "outputs": [],
   "source": [
    "plotMap(dfAis, 'travel', cmap='YlOrRd', norm=colors.LogNorm(vmin=1, vmax=1000000), label=r\"Kilometre travelled per grid cell\")"
   ]
  },
  {
   "attachments": {},
   "cell_type": "markdown",
   "metadata": {},
   "source": [
    "# Try a merged plot"
   ]
  },
  {
   "cell_type": "code",
   "execution_count": null,
   "metadata": {},
   "outputs": [],
   "source": [
    "diffusiveLimit = 5\n",
    "travelLimit = 5"
   ]
  },
  {
   "cell_type": "code",
   "execution_count": null,
   "metadata": {},
   "outputs": [],
   "source": [
    "from matplotlib.pyplot import figure\n",
    "\n",
    "figure(dpi=300)\n",
    "\n",
    "latMethane = dfMethane['Latitude'].values\n",
    "lonMethane = dfMethane['Longitude'].values\n",
    "lonMethane = np.array([v - 360 if v > 180 else v for v in lonMethane])\n",
    "\n",
    "latAis = dfAis['Latitude'].values\n",
    "lonAis = dfAis['Longitude'].values\n",
    "lonAis = np.array([v - 360 if v > 180 else v for v in lonAis])\n",
    "\n",
    "m = Basemap(projection = 'mill',\n",
    "        llcrnrlat = -90,\n",
    "        urcrnrlat = 90,\n",
    "        llcrnrlon = -180,\n",
    "        urcrnrlon = 180,\n",
    "        resolution = 'c')\n",
    "\n",
    "m.drawparallels(np.arange(-90, 90,30), labels=[True, False, False, False])\n",
    "\n",
    "m.drawmeridians(np.arange(-180, 180, 40), labels = [0,0,0,1])\n",
    "m.drawcoastlines(color='gray', linewidth=0.5)\n",
    "\n",
    "x, y = m(np.concatenate([lonMethane, lonAis]), np.concatenate([latMethane, latAis]))\n",
    "paddedTravelVals = np.concatenate([np.zeros_like(dfMethane['Fch4_diffusive'].values), dfAis['travel'].values])\n",
    "paddedDiffVals = np.concatenate([dfMethane['Fch4_diffusive'].values, np.zeros_like(dfAis['travel'].values)])\n",
    "\n",
    "cDiff = m.hexbin(x, y, bins='log', C=paddedDiffVals, gridsize=1000, alpha=1, edgecolors='none', cmap='RdYlBu_r')\n",
    "\n",
    "cTravel = m.hexbin(x, y, bins='log', C=paddedTravelVals, gridsize=1000, alpha=1, edgecolors='none', cmap='RdYlBu_r')\n",
    "\n",
    "aTravel = cTravel.get_array()\n",
    "aDiff = cDiff.get_array()\n",
    "aNew = np.zeros_like(aDiff)\n",
    "for i in range(len(aNew)):\n",
    "    if aTravel[i] >= travelLimit and aDiff[i] >= diffusiveLimit:\n",
    "        aNew[i] = aTravel[i] * aDiff[i]\n",
    "\n",
    "cTravel.set_array(aNew)\n",
    "\n",
    "# Clear the other array to only show the merged one\n",
    "cDiff.set_array(np.zeros_like(cDiff.get_array()))\n"
   ]
  },
  {
   "cell_type": "code",
   "execution_count": null,
   "metadata": {},
   "outputs": [],
   "source": []
  }
 ],
 "metadata": {
  "kernelspec": {
   "display_name": "base",
   "language": "python",
   "name": "python3"
  },
  "language_info": {
   "codemirror_mode": {
    "name": "ipython",
    "version": 3
   },
   "file_extension": ".py",
   "mimetype": "text/x-python",
   "name": "python",
   "nbconvert_exporter": "python",
   "pygments_lexer": "ipython3",
   "version": "3.10.8"
  },
  "orig_nbformat": 4
 },
 "nbformat": 4,
 "nbformat_minor": 2
}
