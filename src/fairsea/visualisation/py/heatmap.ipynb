{
 "cells": [
  {
   "cell_type": "markdown",
   "metadata": {},
   "source": [
    "# Binned heatmaps\n",
    "Plotting heatmaps for binned data using Altair (through `binAis.py`)"
   ]
  },
  {
   "cell_type": "code",
   "execution_count": null,
   "metadata": {},
   "outputs": [],
   "source": [
    "import binAis\n",
    "\n",
    "# Read files from scratch\n",
    "#dfCargo = binAis.binDataUTM(aisPath = \"../../../../fairsea_data/ais2018_cargo.csv\", binSize = 0.01)\n",
    "#dfChemical = binAis.binDataUTM(aisPath = \"../../../../fairsea_data/ais2018_chemical_tanker.csv\", binSize = 0.01)\n",
    "\n",
    "# Load pre-prosessed files\n",
    "import pandas as pd\n",
    "dfCargo = pd.read_csv(\"../../../../fairsea_data/ais2018_cargo_binned.csv\")\n",
    "dfChemical = pd.read_csv(\"../../../../fairsea_data/ais2018_chemical_tanker_binned.csv\")"
   ]
  },
  {
   "cell_type": "markdown",
   "metadata": {},
   "source": [
    "## Plot the binned data for a specified area"
   ]
  },
  {
   "cell_type": "markdown",
   "metadata": {},
   "source": [
    "### Chemical tankers"
   ]
  },
  {
   "cell_type": "code",
   "execution_count": null,
   "metadata": {},
   "outputs": [],
   "source": [
    "binAis.heatmap(dfChemical, \"counts\", scaleType='symlog', pointSize=20, width=800, height=750,\n",
    "    # Specify geographic area (Skagen)\n",
    "    lngMin=9, lngMax=12, latMin=57, latMax=58.5\n",
    ")"
   ]
  },
  {
   "cell_type": "markdown",
   "metadata": {},
   "source": [
    "### All cargo ships"
   ]
  },
  {
   "cell_type": "code",
   "execution_count": null,
   "metadata": {},
   "outputs": [],
   "source": [
    "binAis.heatmap(dfCargo, \"counts\", scaleType='symlog', pointSize=20, width=800, height=750,\n",
    "    # Specify geographic area (Skagen)\n",
    "    lngMin=9, lngMax=12, latMin=57, latMax=58.5\n",
    ")"
   ]
  },
  {
   "cell_type": "markdown",
   "metadata": {},
   "source": [
    "## Inspect the binned data"
   ]
  },
  {
   "cell_type": "code",
   "execution_count": null,
   "metadata": {},
   "outputs": [],
   "source": [
    "dfCargo.sort_values(by=[\"Longitude\", \"Latitude\"])"
   ]
  },
  {
   "cell_type": "code",
   "execution_count": null,
   "metadata": {},
   "outputs": [],
   "source": [
    "dfChemical.sort_values(by=[\"Longitude\", \"Latitude\"])"
   ]
  },
  {
   "cell_type": "markdown",
   "metadata": {},
   "source": [
    "## Merge the two datasets and calculate differences"
   ]
  },
  {
   "cell_type": "code",
   "execution_count": null,
   "metadata": {},
   "outputs": [],
   "source": [
    "import pandas as pd\n",
    "\n",
    "df = pd.merge(dfCargo, dfChemical, on=[\"Longitude\", \"Latitude\"], how=\"outer\")"
   ]
  },
  {
   "cell_type": "code",
   "execution_count": null,
   "metadata": {},
   "outputs": [],
   "source": [
    "df[\"diff\"] = df[\"counts_y\"] - df[\"counts_x\"]"
   ]
  },
  {
   "cell_type": "code",
   "execution_count": null,
   "metadata": {},
   "outputs": [],
   "source": [
    "df.sort_values(by=[\"Longitude\", \"Latitude\"])"
   ]
  },
  {
   "cell_type": "code",
   "execution_count": null,
   "metadata": {},
   "outputs": [],
   "source": [
    "df.dropna(subset=['diff']) # Drop NaN values"
   ]
  },
  {
   "cell_type": "markdown",
   "metadata": {},
   "source": [
    "## Plot differences"
   ]
  },
  {
   "cell_type": "code",
   "execution_count": null,
   "metadata": {},
   "outputs": [],
   "source": [
    "binAis.heatmap(df, \"diff\", scaleType='symlog')"
   ]
  },
  {
   "cell_type": "code",
   "execution_count": null,
   "metadata": {},
   "outputs": [],
   "source": [
    "binAis.heatmap(\n",
    "    df.loc[(df['Longitude'] >= 9) & (df['Longitude'] <= 12) & (df['Latitude'] >= 57) & (df['Latitude'] <= 58.5)],\n",
    "    \"diff\", scaleType='symlog', pointSize=20\n",
    ").properties(\n",
    "    width=800,\n",
    "    height=750\n",
    ")\n"
   ]
  },
  {
   "cell_type": "markdown",
   "metadata": {},
   "source": [
    "## Normalised difference"
   ]
  },
  {
   "cell_type": "code",
   "execution_count": null,
   "metadata": {},
   "outputs": [],
   "source": [
    "df['normDiff'] = (df['counts_y'] / df['counts_y'].sum()) / (df['counts_x'] / df['counts_x'].sum())"
   ]
  },
  {
   "cell_type": "code",
   "execution_count": null,
   "metadata": {},
   "outputs": [],
   "source": [
    "binAis.heatmap(\n",
    "    df.loc[(df['Longitude'] >= 9) & (df['Longitude'] <= 12) & (df['Latitude'] >= 57) & (df['Latitude'] <= 58.5)],\n",
    "    \"normDiff\", scaleType='symlog', pointSize=20\n",
    ").properties(\n",
    "    width=800,\n",
    "    height=750\n",
    ")\n"
   ]
  }
 ],
 "metadata": {
  "kernelspec": {
   "display_name": "base",
   "language": "python",
   "name": "python3"
  },
  "language_info": {
   "codemirror_mode": {
    "name": "ipython",
    "version": 3
   },
   "file_extension": ".py",
   "mimetype": "text/x-python",
   "name": "python",
   "nbconvert_exporter": "python",
   "pygments_lexer": "ipython3",
   "version": "3.10.8"
  },
  "orig_nbformat": 4
 },
 "nbformat": 4,
 "nbformat_minor": 2
}
