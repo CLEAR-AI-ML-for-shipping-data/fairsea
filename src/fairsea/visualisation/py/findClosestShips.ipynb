{
 "cells": [
  {
   "attachments": {},
   "cell_type": "markdown",
   "metadata": {},
   "source": [
    "# Find ships closest to observations"
   ]
  },
  {
   "cell_type": "code",
   "execution_count": null,
   "metadata": {},
   "outputs": [],
   "source": [
    "import pandas as pd\n",
    "import utils"
   ]
  },
  {
   "cell_type": "code",
   "execution_count": null,
   "metadata": {},
   "outputs": [],
   "source": [
    "aisPath = '~/fairsea_data/ais2018_chemical_tanker.csv'\n",
    "obsPath = '~/fairsea_data/pollution-obs-2018.csv'"
   ]
  },
  {
   "attachments": {},
   "cell_type": "markdown",
   "metadata": {},
   "source": [
    "## Import data from CSVs"
   ]
  },
  {
   "cell_type": "code",
   "execution_count": null,
   "metadata": {},
   "outputs": [],
   "source": [
    "df_ais = pd.read_csv(aisPath, parse_dates=[\"Timestamp_datetime\"])\n",
    "df_observations = pd.read_csv(obsPath, delimiter=';', header=None ,names=[\"date\", \"time\", \"Latitude\", \"Longitude\"])\n",
    "\n",
    "# Convert observation date and time columns into formatted datetime column\n",
    "df_observations['datetime'] = df_observations['date'] + ' ' + df_observations['time']\n",
    "df_observations = df_observations.drop(columns=['date', 'time'])\n",
    "df_observations.datetime = pd.to_datetime(df_observations.datetime, format='%m/%d/%Y %H:%M')\n",
    "\n",
    "print(f\"Imported data for {df_ais.IMO.nunique()} ships and {len(df_observations.index)} observations\")"
   ]
  },
  {
   "attachments": {},
   "cell_type": "markdown",
   "metadata": {},
   "source": [
    "## Find ships closest to observations"
   ]
  },
  {
   "cell_type": "code",
   "execution_count": null,
   "metadata": {},
   "outputs": [],
   "source": [
    "dt = pd.Timedelta(2, \"h\")"
   ]
  },
  {
   "cell_type": "code",
   "execution_count": null,
   "metadata": {},
   "outputs": [],
   "source": [
    "df_observations['closestShip'] = df_observations.apply(lambda o: utils.findClosestShips(o.squeeze(), df_ais, dt, 3), axis=1)"
   ]
  },
  {
   "cell_type": "code",
   "execution_count": null,
   "metadata": {},
   "outputs": [],
   "source": [
    "trajs = [\n",
    "    [\n",
    "    df_ais[\n",
    "        (df_ais[\"IMO\"] == imo) &\n",
    "        (df_ais[\"Timestamp_datetime\"] > row['datetime'] - dt) &\n",
    "        (df_ais[\"Timestamp_datetime\"] <= row['datetime'] + dt)\n",
    "    ]\n",
    "    for imo in row['closestShip'] if imo != 0\n",
    "    ] for _, row in df_observations.iterrows()\n",
    "]"
   ]
  },
  {
   "attachments": {},
   "cell_type": "markdown",
   "metadata": {},
   "source": [
    "## Draw interactive map"
   ]
  },
  {
   "cell_type": "code",
   "execution_count": null,
   "metadata": {},
   "outputs": [],
   "source": [
    "utils.mapObservations(df_observations, trajs)"
   ]
  },
  {
   "cell_type": "code",
   "execution_count": null,
   "metadata": {},
   "outputs": [],
   "source": [
    "utils.findClosestShips(df_observations.head(1).squeeze(), df_ais, dt, 10)"
   ]
  }
 ],
 "metadata": {
  "kernelspec": {
   "display_name": "base",
   "language": "python",
   "name": "python3"
  },
  "language_info": {
   "codemirror_mode": {
    "name": "ipython",
    "version": 3
   },
   "file_extension": ".py",
   "mimetype": "text/x-python",
   "name": "python",
   "nbconvert_exporter": "python",
   "pygments_lexer": "ipython3",
   "version": "3.10.8"
  },
  "orig_nbformat": 4
 },
 "nbformat": 4,
 "nbformat_minor": 2
}
