{
 "cells": [
  {
   "cell_type": "code",
   "execution_count": null,
   "metadata": {},
   "outputs": [],
   "source": [
    "import pandas as pd\n",
    "import altair as alt\n",
    "import utils\n",
    "import math\n",
    "\n",
    "alt.data_transformers.enable('json')\n",
    "\n",
    "aisPath = '~/fairsea_data/ais2018_chemical_tanker.csv'\n",
    "chemicalIMOPath = '~/fairsea_data/imo_km.csv'"
   ]
  },
  {
   "cell_type": "code",
   "execution_count": null,
   "metadata": {},
   "outputs": [],
   "source": [
    "# Import data\n",
    "df_ais = pd.read_csv(aisPath, parse_dates=[\"Timestamp_datetime\"])\n",
    "print(f\"Imported data for {df_ais.IMO.nunique()} ships\")\n",
    "\n",
    "# Filter only chemical IMOs\n",
    "df_km_imo = pd.read_csv(chemicalIMOPath)\n",
    "df_ais = df_ais[df_ais['IMO'].isin(df_km_imo.imo_chemical.values)]\n",
    "\n",
    "print(f\"{df_ais.IMO.nunique()} ships are chemical tankers\")"
   ]
  },
  {
   "cell_type": "code",
   "execution_count": null,
   "metadata": {},
   "outputs": [],
   "source": [
    "# Sort by time\n",
    "df_ais = df_ais.sort_values(by=['Timestamp_datetime'], ascending=True)\n",
    "\n",
    "# Remove "
   ]
  },
  {
   "cell_type": "code",
   "execution_count": null,
   "metadata": {},
   "outputs": [],
   "source": [
    "# Remove stationary trajectories\n",
    "df_ais = df_ais.loc[df_ais['Navigational status (text)'] == 'Engine']"
   ]
  },
  {
   "cell_type": "code",
   "execution_count": null,
   "metadata": {},
   "outputs": [],
   "source": [
    "# Group by ship\n",
    "ships = [group for _name, group in df_ais.groupby(\"IMO\")]\n",
    "for df in ships:\n",
    "    df['previousLatitude'] = df['Latitude'].shift(1)\n",
    "    df['previousLongitude'] = df['Longitude'].shift(1)\n",
    "    df['timeSinceLastPos'] = df['Timestamp_datetime'] - df['Timestamp_datetime'].shift(1)\n",
    "    df['heading'] = df.apply(utils.headingFromRow, axis=1) \n",
    "    df['headingDiff'] = abs(df['heading'] - df['heading'].shift(1)) % 2* math.pi\n",
    "    df['headingDiff'] = pd.concat([df['headingDiff'], 2*math.pi - df['headingDiff']], axis=1).min(axis=1)\n",
    "    df.set_index('Timestamp_datetime', inplace=True)\n",
    "    df['headingDiffRolling'] = df['headingDiff'].rolling(window='1H').sum()\n",
    "    df.reset_index(inplace=True)"
   ]
  },
  {
   "cell_type": "code",
   "execution_count": null,
   "metadata": {},
   "outputs": [],
   "source": [
    "brush = alt.selection_interval(encodings=['x'])\n",
    "\n",
    "chart = alt.Chart(ships[0].drop([\"timeSinceLastPos\"], axis=1))\n",
    "\n",
    "mapSource = alt.topo_feature(\"../data/europe.geo.json\", 'geometry')\n",
    "mapChart = alt.Chart(mapSource).mark_geoshape(fill=None, stroke='grey')\n",
    "\n",
    "chart.mark_circle().encode(\n",
    "    x=alt.X(\"Timestamp_datetime\", title=\"Date\"),\n",
    "    y=alt.Y(\"headingDiffRolling\", title=\"Density of turns\"),\n",
    "    tooltip=[\"Timestamp_datetime\", 'IMO', 'Speed over ground']\n",
    ").add_params(\n",
    "    brush\n",
    ").properties(\n",
    "    width=1000\n",
    ") & alt.layer(\n",
    "    alt.Chart(mapSource).mark_geoshape(clip=True, fill='Gainsboro', stroke='grey'),\n",
    "    chart.mark_line().encode(\n",
    "        longitude=alt.Longitude(\"Longitude:Q\"),\n",
    "        latitude=alt.Latitude(\"Latitude:Q\"),\n",
    "        tooltip=\"Timestamp_datetime\"\n",
    "    ).transform_filter(brush)\n",
    ")"
   ]
  },
  {
   "attachments": {},
   "cell_type": "markdown",
   "metadata": {},
   "source": [
    "Plot a heatmap of all ship routes"
   ]
  },
  {
   "cell_type": "code",
   "execution_count": null,
   "metadata": {},
   "outputs": [],
   "source": [
    "utils.plotTrajectory(ships[0], fromDate=pd.Timestamp(2018,2,26), toDate=pd.Timestamp(2018,2,27))"
   ]
  },
  {
   "cell_type": "code",
   "execution_count": null,
   "metadata": {},
   "outputs": [],
   "source": []
  }
 ],
 "metadata": {
  "kernelspec": {
   "display_name": "base",
   "language": "python",
   "name": "python3"
  },
  "language_info": {
   "codemirror_mode": {
    "name": "ipython",
    "version": 3
   },
   "file_extension": ".py",
   "mimetype": "text/x-python",
   "name": "python",
   "nbconvert_exporter": "python",
   "pygments_lexer": "ipython3",
   "version": "3.10.8"
  },
  "orig_nbformat": 4
 },
 "nbformat": 4,
 "nbformat_minor": 2
}
