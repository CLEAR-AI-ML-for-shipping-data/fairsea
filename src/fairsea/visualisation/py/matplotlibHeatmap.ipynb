{
 "cells": [
  {
   "cell_type": "markdown",
   "metadata": {},
   "source": [
    "# Matplotlib heatmaps\n",
    "\n",
    "Plotting heatmaps using matplotlib. Compared to the Altair approach (seen in `heatmap.ipynb` and `binAis.py`), the hexbin bins the data automagically (into hexagonal bins). It makes for nice plots, but you have less control of the bins and is trickier to extract the underlying data.\n",
    "\n",
    "Since you cannot load a prebinned file, this takes a while to run."
   ]
  },
  {
   "cell_type": "code",
   "execution_count": null,
   "metadata": {},
   "outputs": [],
   "source": [
    "import pandas as pd\n",
    "from mpl_toolkits.basemap import Basemap\n",
    "import matplotlib.pyplot as plt\n",
    "import matplotlib.colors as colors\n",
    "import numpy as np"
   ]
  },
  {
   "cell_type": "markdown",
   "metadata": {},
   "source": [
    "## Load data"
   ]
  },
  {
   "cell_type": "code",
   "execution_count": null,
   "metadata": {},
   "outputs": [],
   "source": [
    "chemicalPath = '~/fairsea_data/ais2018_chemical_tanker.csv'\n",
    "df_ais = pd.read_csv(chemicalPath, parse_dates=[\"Timestamp_datetime\"])\n",
    "print(f\"Imported data for {df_ais.IMO.nunique()} ships\")"
   ]
  },
  {
   "attachments": {},
   "cell_type": "markdown",
   "metadata": {},
   "source": [
    "## Define plotting function"
   ]
  },
  {
   "cell_type": "code",
   "execution_count": null,
   "metadata": {},
   "outputs": [],
   "source": [
    "def plotMap(df, cmap='RdYlBu_r', norm=colors.Normalize(), label=None, gridsize=1000, latMin=None, latMax=None, lngMin=None, lngMax=None):\n",
    "    fig, ax = plt.subplots(figsize=(20, 10), dpi=300)\n",
    "\n",
    "    lat = df['Latitude'].values\n",
    "    lon = df['Longitude'].values\n",
    "\n",
    "    if (latMin == None):\n",
    "        latMin = lat.min()\n",
    "    if (latMax == None):\n",
    "        latMax = lat.max()\n",
    "    if (lngMin == None):\n",
    "        lngMin = lon.min()\n",
    "    if (lngMax == None):\n",
    "        lngMax = lon.max()\n",
    "\n",
    "    m = Basemap(ax = ax, projection = 'mill', llcrnrlat = latMin, urcrnrlat = latMax, llcrnrlon = lngMin, urcrnrlon = lngMax, resolution = 'h')\n",
    "\n",
    "    m.drawparallels(np.arange(-90, 90, 5), labels=[True, False, False, False])\n",
    "    m.drawmeridians(np.arange(-180, 180, 10), labels = [0,0,0,1])\n",
    "    m.fillcontinents(color='black',lake_color='white')\n",
    "\n",
    "    x, y = m(lon, lat)\n",
    "    hexbin = m.hexbin(x, y, \n",
    "        bins=None,\n",
    "        norm = norm,\n",
    "        gridsize=gridsize,\n",
    "        alpha=1,\n",
    "        edgecolors='none',\n",
    "        cmap=cmap,\n",
    "        #mincnt=1\n",
    "    );\n",
    "\n",
    "    fig.colorbar(mappable = hexbin, label=label, location=\"right\")\n",
    "\n",
    "    #return fig\n"
   ]
  },
  {
   "cell_type": "markdown",
   "metadata": {},
   "source": [
    "## Plot"
   ]
  },
  {
   "cell_type": "code",
   "execution_count": null,
   "metadata": {},
   "outputs": [],
   "source": [
    "plotMap(df_ais, cmap='RdYlBu_r', norm=colors.SymLogNorm(1), label=r\"Reported location count\")"
   ]
  },
  {
   "cell_type": "markdown",
   "metadata": {},
   "source": [
    "## Plot area (Skagen)"
   ]
  },
  {
   "cell_type": "code",
   "execution_count": null,
   "metadata": {},
   "outputs": [],
   "source": [
    "plotMap(df_ais, cmap='RdYlBu_r', norm=colors.SymLogNorm(1), label=r\"Reported location count\", gridsize=5000, latMin=57, latMax=58, lngMin=10, lngMax=12)"
   ]
  }
 ],
 "metadata": {
  "kernelspec": {
   "display_name": "base",
   "language": "python",
   "name": "python3"
  },
  "language_info": {
   "codemirror_mode": {
    "name": "ipython",
    "version": 3
   },
   "file_extension": ".py",
   "mimetype": "text/x-python",
   "name": "python",
   "nbconvert_exporter": "python",
   "pygments_lexer": "ipython3",
   "version": "3.10.8"
  },
  "orig_nbformat": 4
 },
 "nbformat": 4,
 "nbformat_minor": 2
}
